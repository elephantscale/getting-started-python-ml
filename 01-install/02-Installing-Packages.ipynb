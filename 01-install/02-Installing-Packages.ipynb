{
 "cells": [
  {
   "cell_type": "markdown",
   "metadata": {},
   "source": [
    "# How to Install Packages in Python\n",
    "\n",
    "Most of us install packages using the command line. There are two package managers we use:\n",
    "\n",
    "* **pip**: This is Python's default package manager.  It is not managed by anaconda.\n",
    "* **conda** this is Anaconda's package manager and is managed by anaconda.\n",
    "\n",
    "If you are using Anaconda you are better off using **conda** if you can.  Not all packages are in Anaconda.  Including\n",
    "channel **conda-forge** has more packages."
   ]
  },
  {
   "cell_type": "markdown",
   "metadata": {},
   "source": [
    "## How to do this from the command line:\n",
    "\n",
    "Open up a command prompt. Windows users should go to you START menu and do an Anaconda prompt. Mac / Linux users open a terminal.\n",
    "\n",
    "```bash\n",
    "conda install -c conda-forge name_of_my_package\n",
    "```\n",
    "\n",
    "For example\n",
    "\n",
    "```bash\n",
    "conda install -c conda-forge nltk textblob gensim scikit-surprise\n",
    "```\n",
    "\n",
    "If you don't know where conda is, then you may not have your path set up properly. One possible solution to this on mac and linux is the following:\n",
    "\n",
    "```bash\n",
    "source ~/.bash_profile\n",
    "```\n",
    "\n",
    "And then try running again."
   ]
  },
  {
   "cell_type": "markdown",
   "metadata": {},
   "source": [
    "### Installing Via Jupyter Notebook.\n",
    "\n",
    "It is possible to install packages in jupyter notebook.  Let's show you how it's done.\n",
    "\n",
    "We will install 4 packages:\n",
    "1. nltk\n",
    "2. textblob\n",
    "3. gensim\n",
    "4. scikit-surprise"
   ]
  },
  {
   "cell_type": "code",
   "execution_count": null,
   "metadata": {},
   "outputs": [],
   "source": [
    "import sys\n",
    "!conda install -c conda-forge --yes --prefix {sys.prefix} nltk textblob gensim"
   ]
  },
  {
   "cell_type": "markdown",
   "metadata": {},
   "source": [
    "We can't actually install one package that we definitely need via conda, so we'll go back to old-school pip.  If you're not using anaconda, this will be how you install all your packages."
   ]
  },
  {
   "cell_type": "code",
   "execution_count": null,
   "metadata": {
    "collapsed": true
   },
   "outputs": [],
   "source": [
    "!{sys.executable} -m pip install stop_words"
   ]
  },
  {
   "cell_type": "markdown",
   "metadata": {},
   "source": [
    "### Using a Package\n",
    "\n",
    "To use a package you can type the following:\n",
    "\n",
    "```bash\n",
    "import name_of_my_package\n",
    "```"
   ]
  },
  {
   "cell_type": "code",
   "execution_count": null,
   "metadata": {
    "collapsed": true
   },
   "outputs": [],
   "source": [
    "import nltk\n"
   ]
  },
  {
   "cell_type": "markdown",
   "metadata": {},
   "source": [
    "### Importing objects from a package\n",
    "\n",
    "Simply importing a package doesn't actually import all the objects in a package.  To do that, we will need to specify the objects we want to import with their namespace.\n",
    "\n",
    "```python\n",
    "from nltk.book import *\n",
    "```"
   ]
  },
  {
   "cell_type": "code",
   "execution_count": null,
   "metadata": {
    "collapsed": true
   },
   "outputs": [],
   "source": [
    "# Try this\n",
    "\n",
    "from nltk.book import *"
   ]
  },
  {
   "cell_type": "code",
   "execution_count": null,
   "metadata": {
    "collapsed": true
   },
   "outputs": [],
   "source": [
    "text1 # Should be Moby Dick"
   ]
  },
  {
   "cell_type": "markdown",
   "metadata": {},
   "source": [
    "### Download NLTK data.\n",
    "\n",
    "Go ahead and download NLTK's data. NLTK has a lot of data, so this may take a while!"
   ]
  },
  {
   "cell_type": "code",
   "execution_count": null,
   "metadata": {
    "collapsed": true
   },
   "outputs": [],
   "source": [
    "import nltk\n",
    "nltk.download(\"all\")"
   ]
  }
 ],
 "metadata": {
  "kernelspec": {
   "display_name": "Python 3",
   "language": "python",
   "name": "python3"
  },
  "language_info": {
   "codemirror_mode": {
    "name": "ipython",
    "version": 3
   },
   "file_extension": ".py",
   "mimetype": "text/x-python",
   "name": "python",
   "nbconvert_exporter": "python",
   "pygments_lexer": "ipython3",
   "version": "3.5.4"
  }
 },
 "nbformat": 4,
 "nbformat_minor": 2
}
